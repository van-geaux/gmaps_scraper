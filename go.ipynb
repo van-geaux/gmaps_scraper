{
 "cells": [
  {
   "cell_type": "code",
   "execution_count": 11,
   "metadata": {},
   "outputs": [],
   "source": [
    "package main"
   ]
  },
  {
   "cell_type": "code",
   "execution_count": 12,
   "metadata": {},
   "outputs": [],
   "source": [
    "import (\n",
    "    \"context\"\n",
    "    \"fmt\"\n",
    "    \"log\"\n",
    "    \"strings\"\n",
    "    \"time\"\n",
    "\n",
    "    \"github.com/chromedp/chromedp\"\n",
    "    \"github.com/PuerkitoBio/goquery\"\n",
    ")"
   ]
  },
  {
   "cell_type": "code",
   "execution_count": 13,
   "metadata": {},
   "outputs": [],
   "source": [
    "proxies := []string{\n",
    "\t\"http://proxy1:port\",\n",
    "\t\"http://proxy2:port\",\n",
    "\t\"http://proxy3:port\",\n",
    "}"
   ]
  }
 ],
 "metadata": {
  "kernelspec": {
   "display_name": "Go",
   "language": "go",
   "name": "gophernotes"
  },
  "language_info": {
   "codemirror_mode": "",
   "file_extension": ".go",
   "mimetype": "",
   "name": "go",
   "nbconvert_exporter": "",
   "pygments_lexer": "",
   "version": "go1.22.3"
  }
 },
 "nbformat": 4,
 "nbformat_minor": 2
}
